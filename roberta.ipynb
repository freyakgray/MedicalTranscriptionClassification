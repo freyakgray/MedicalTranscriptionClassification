{
  "nbformat": 4,
  "nbformat_minor": 0,
  "metadata": {
    "accelerator": "GPU",
    "colab": {
      "name": "roberta.ipynb",
      "provenance": [],
      "collapsed_sections": [],
      "authorship_tag": "ABX9TyOzm69tXntg+VEMGdrxeaXE",
      "include_colab_link": true
    },
    "kernelspec": {
      "display_name": "Python 3",
      "name": "python3"
    },
    "language_info": {
      "name": "python"
    }
  },
  "cells": [
    {
      "cell_type": "markdown",
      "metadata": {
        "id": "view-in-github",
        "colab_type": "text"
      },
      "source": [
        "<a href=\"https://colab.research.google.com/github/freyakgray/MedicalTranscriptionClassification/blob/main/roberta.ipynb\" target=\"_parent\"><img src=\"https://colab.research.google.com/assets/colab-badge.svg\" alt=\"Open In Colab\"/></a>"
      ]
    },
    {
      "cell_type": "markdown",
      "metadata": {
        "id": "SlECziSo2JPk"
      },
      "source": [
        "# Medical Transcriptions Categorization\n",
        "Freya Gray\n",
        "CS39AA - Natural Language Processing\n",
        "<br>\n",
        "This project uses medical transcripts to try and classify the medical specialty that the transcript originated from. The dataset is from the Medical Transcriptions dataset on [Kaggle](https://www.kaggle.com/tboyle10/medicaltranscriptions). \n",
        "This notebook will implement a pre-trainedmodel, RoBERTa for the classification problem"
      ]
    },
    {
      "cell_type": "code",
      "metadata": {
        "colab": {
          "base_uri": "https://localhost:8080/"
        },
        "id": "87YOvklQU7Hl",
        "outputId": "2c095456-de71-4f90-c9ef-f33adeb8323c"
      },
      "source": [
        "!pip install transformers"
      ],
      "execution_count": 1,
      "outputs": [
        {
          "output_type": "stream",
          "name": "stdout",
          "text": [
            "Requirement already satisfied: transformers in /usr/local/lib/python3.7/dist-packages (4.12.5)\n",
            "Requirement already satisfied: regex!=2019.12.17 in /usr/local/lib/python3.7/dist-packages (from transformers) (2019.12.20)\n",
            "Requirement already satisfied: numpy>=1.17 in /usr/local/lib/python3.7/dist-packages (from transformers) (1.19.5)\n",
            "Requirement already satisfied: filelock in /usr/local/lib/python3.7/dist-packages (from transformers) (3.4.0)\n",
            "Requirement already satisfied: sacremoses in /usr/local/lib/python3.7/dist-packages (from transformers) (0.0.46)\n",
            "Requirement already satisfied: importlib-metadata in /usr/local/lib/python3.7/dist-packages (from transformers) (4.8.2)\n",
            "Requirement already satisfied: tokenizers<0.11,>=0.10.1 in /usr/local/lib/python3.7/dist-packages (from transformers) (0.10.3)\n",
            "Requirement already satisfied: huggingface-hub<1.0,>=0.1.0 in /usr/local/lib/python3.7/dist-packages (from transformers) (0.2.1)\n",
            "Requirement already satisfied: requests in /usr/local/lib/python3.7/dist-packages (from transformers) (2.23.0)\n",
            "Requirement already satisfied: packaging>=20.0 in /usr/local/lib/python3.7/dist-packages (from transformers) (21.3)\n",
            "Requirement already satisfied: tqdm>=4.27 in /usr/local/lib/python3.7/dist-packages (from transformers) (4.62.3)\n",
            "Requirement already satisfied: pyyaml>=5.1 in /usr/local/lib/python3.7/dist-packages (from transformers) (6.0)\n",
            "Requirement already satisfied: typing-extensions>=3.7.4.3 in /usr/local/lib/python3.7/dist-packages (from huggingface-hub<1.0,>=0.1.0->transformers) (3.10.0.2)\n",
            "Requirement already satisfied: pyparsing!=3.0.5,>=2.0.2 in /usr/local/lib/python3.7/dist-packages (from packaging>=20.0->transformers) (3.0.6)\n",
            "Requirement already satisfied: zipp>=0.5 in /usr/local/lib/python3.7/dist-packages (from importlib-metadata->transformers) (3.6.0)\n",
            "Requirement already satisfied: certifi>=2017.4.17 in /usr/local/lib/python3.7/dist-packages (from requests->transformers) (2021.10.8)\n",
            "Requirement already satisfied: chardet<4,>=3.0.2 in /usr/local/lib/python3.7/dist-packages (from requests->transformers) (3.0.4)\n",
            "Requirement already satisfied: idna<3,>=2.5 in /usr/local/lib/python3.7/dist-packages (from requests->transformers) (2.10)\n",
            "Requirement already satisfied: urllib3!=1.25.0,!=1.25.1,<1.26,>=1.21.1 in /usr/local/lib/python3.7/dist-packages (from requests->transformers) (1.24.3)\n",
            "Requirement already satisfied: click in /usr/local/lib/python3.7/dist-packages (from sacremoses->transformers) (7.1.2)\n",
            "Requirement already satisfied: joblib in /usr/local/lib/python3.7/dist-packages (from sacremoses->transformers) (1.1.0)\n",
            "Requirement already satisfied: six in /usr/local/lib/python3.7/dist-packages (from sacremoses->transformers) (1.15.0)\n"
          ]
        }
      ]
    },
    {
      "cell_type": "markdown",
      "metadata": {
        "id": "gqGI_7QAUvhX"
      },
      "source": [
        "## Imports"
      ]
    },
    {
      "cell_type": "code",
      "metadata": {
        "id": "GvlmN2AZVRND"
      },
      "source": [
        "import tensorflow as tf\n",
        "import numpy as np\n",
        "import pandas as pd\n",
        "import sklearn\n",
        "from sklearn.metrics import accuracy_score, precision_score, recall_score, f1_score\n",
        "import transformers\n",
        "from transformers import AutoTokenizer, TFAutoModelForSequenceClassification\n",
        "import json\n",
        "import matplotlib.pyplot as plt\n",
        "import random\n",
        "import seaborn as sn\n"
      ],
      "execution_count": 2,
      "outputs": []
    },
    {
      "cell_type": "code",
      "metadata": {
        "colab": {
          "base_uri": "https://localhost:8080/"
        },
        "id": "vJMzvc_C-sFz",
        "outputId": "75ece7fa-374b-47fb-be9a-0d5277dbc185"
      },
      "source": [
        "device_name = tf.test.gpu_device_name()\n",
        "if device_name != '/device:GPU:0':\n",
        "  raise SystemError('GPU device not found')\n",
        "print('Found GPU at: {}'.format(device_name))"
      ],
      "execution_count": 3,
      "outputs": [
        {
          "output_type": "stream",
          "name": "stdout",
          "text": [
            "Found GPU at: /device:GPU:0\n"
          ]
        }
      ]
    },
    {
      "cell_type": "markdown",
      "metadata": {
        "id": "ZPLLjlwAU5fy"
      },
      "source": [
        "## Dataset\n"
      ]
    },
    {
      "cell_type": "markdown",
      "metadata": {
        "id": "BHaYRbk3xPWv"
      },
      "source": [
        "### Drop null entries"
      ]
    },
    {
      "cell_type": "code",
      "metadata": {
        "id": "pvOtXNGdVe4Y",
        "colab": {
          "base_uri": "https://localhost:8080/",
          "height": 175
        },
        "outputId": "842c2dad-0483-49b4-9b27-2d6c18b730f8"
      },
      "source": [
        "url = 'https://github.com/freyakgray/MedicalTranscriptionClassification/blob/main/mtsamples.csv?raw=true'\n",
        "df = pd.read_csv(url)\n",
        "df.drop(['Unnamed: 0','description','sample_name'], axis = 1, inplace = True)\n",
        "df.dropna(inplace = True)\n",
        "df.reset_index(drop = True, inplace = True)\n",
        "df.describe()"
      ],
      "execution_count": 4,
      "outputs": [
        {
          "output_type": "execute_result",
          "data": {
            "text/html": [
              "<div>\n",
              "<style scoped>\n",
              "    .dataframe tbody tr th:only-of-type {\n",
              "        vertical-align: middle;\n",
              "    }\n",
              "\n",
              "    .dataframe tbody tr th {\n",
              "        vertical-align: top;\n",
              "    }\n",
              "\n",
              "    .dataframe thead th {\n",
              "        text-align: right;\n",
              "    }\n",
              "</style>\n",
              "<table border=\"1\" class=\"dataframe\">\n",
              "  <thead>\n",
              "    <tr style=\"text-align: right;\">\n",
              "      <th></th>\n",
              "      <th>medical_specialty</th>\n",
              "      <th>transcription</th>\n",
              "      <th>keywords</th>\n",
              "    </tr>\n",
              "  </thead>\n",
              "  <tbody>\n",
              "    <tr>\n",
              "      <th>count</th>\n",
              "      <td>3898</td>\n",
              "      <td>3898</td>\n",
              "      <td>3898</td>\n",
              "    </tr>\n",
              "    <tr>\n",
              "      <th>unique</th>\n",
              "      <td>39</td>\n",
              "      <td>1860</td>\n",
              "      <td>3816</td>\n",
              "    </tr>\n",
              "    <tr>\n",
              "      <th>top</th>\n",
              "      <td>Surgery</td>\n",
              "      <td>PREOPERATIVE DIAGNOSIS: , Low back pain.,POSTO...</td>\n",
              "      <td></td>\n",
              "    </tr>\n",
              "    <tr>\n",
              "      <th>freq</th>\n",
              "      <td>1021</td>\n",
              "      <td>5</td>\n",
              "      <td>81</td>\n",
              "    </tr>\n",
              "  </tbody>\n",
              "</table>\n",
              "</div>"
            ],
            "text/plain": [
              "       medical_specialty  ... keywords\n",
              "count               3898  ...     3898\n",
              "unique                39  ...     3816\n",
              "top              Surgery  ...         \n",
              "freq                1021  ...       81\n",
              "\n",
              "[4 rows x 3 columns]"
            ]
          },
          "metadata": {},
          "execution_count": 4
        }
      ]
    },
    {
      "cell_type": "markdown",
      "metadata": {
        "id": "gBD5J0olU8jo"
      },
      "source": [
        "### Remove medical specialties that have less than 50 entries"
      ]
    },
    {
      "cell_type": "code",
      "metadata": {
        "id": "0KVUNRWHVmpz"
      },
      "source": [
        "value_counts = df.medical_specialty.value_counts()\n",
        "remove = value_counts[value_counts <= 50].index\n",
        "df = df[~df.medical_specialty.isin(remove)]\n",
        "df = df.reset_index(drop=True)"
      ],
      "execution_count": 5,
      "outputs": []
    },
    {
      "cell_type": "code",
      "metadata": {
        "colab": {
          "base_uri": "https://localhost:8080/",
          "height": 175
        },
        "id": "Zy5nJH0pRm3g",
        "outputId": "bbd335cd-d202-4a17-dc64-8ca1136f4023"
      },
      "source": [
        "df.describe()"
      ],
      "execution_count": 6,
      "outputs": [
        {
          "output_type": "execute_result",
          "data": {
            "text/html": [
              "<div>\n",
              "<style scoped>\n",
              "    .dataframe tbody tr th:only-of-type {\n",
              "        vertical-align: middle;\n",
              "    }\n",
              "\n",
              "    .dataframe tbody tr th {\n",
              "        vertical-align: top;\n",
              "    }\n",
              "\n",
              "    .dataframe thead th {\n",
              "        text-align: right;\n",
              "    }\n",
              "</style>\n",
              "<table border=\"1\" class=\"dataframe\">\n",
              "  <thead>\n",
              "    <tr style=\"text-align: right;\">\n",
              "      <th></th>\n",
              "      <th>medical_specialty</th>\n",
              "      <th>transcription</th>\n",
              "      <th>keywords</th>\n",
              "    </tr>\n",
              "  </thead>\n",
              "  <tbody>\n",
              "    <tr>\n",
              "      <th>count</th>\n",
              "      <td>3514</td>\n",
              "      <td>3514</td>\n",
              "      <td>3514</td>\n",
              "    </tr>\n",
              "    <tr>\n",
              "      <th>unique</th>\n",
              "      <td>18</td>\n",
              "      <td>1836</td>\n",
              "      <td>3444</td>\n",
              "    </tr>\n",
              "    <tr>\n",
              "      <th>top</th>\n",
              "      <td>Surgery</td>\n",
              "      <td>PREOPERATIVE DIAGNOSIS: , Low back pain.,POSTO...</td>\n",
              "      <td></td>\n",
              "    </tr>\n",
              "    <tr>\n",
              "      <th>freq</th>\n",
              "      <td>1021</td>\n",
              "      <td>5</td>\n",
              "      <td>69</td>\n",
              "    </tr>\n",
              "  </tbody>\n",
              "</table>\n",
              "</div>"
            ],
            "text/plain": [
              "       medical_specialty  ... keywords\n",
              "count               3514  ...     3514\n",
              "unique                18  ...     3444\n",
              "top              Surgery  ...         \n",
              "freq                1021  ...       69\n",
              "\n",
              "[4 rows x 3 columns]"
            ]
          },
          "metadata": {},
          "execution_count": 6
        }
      ]
    },
    {
      "cell_type": "code",
      "metadata": {
        "colab": {
          "base_uri": "https://localhost:8080/"
        },
        "id": "lMly0HSMHU_M",
        "outputId": "31de00b7-b1d4-4735-fa76-452fc23fa1c0"
      },
      "source": [
        "df.medical_specialty.value_counts()"
      ],
      "execution_count": 7,
      "outputs": [
        {
          "output_type": "execute_result",
          "data": {
            "text/plain": [
              " Surgery                          1021\n",
              " Orthopedic                        303\n",
              " Cardiovascular / Pulmonary        280\n",
              " Radiology                         251\n",
              " Consult - History and Phy.        234\n",
              " Gastroenterology                  195\n",
              " Neurology                         168\n",
              " General Medicine                  146\n",
              " SOAP / Chart / Progress Notes     142\n",
              " Urology                           140\n",
              " Obstetrics / Gynecology           130\n",
              " ENT - Otolaryngology               84\n",
              " Neurosurgery                       81\n",
              " Ophthalmology                      79\n",
              " Discharge Summary                  77\n",
              " Nephrology                         63\n",
              " Hematology - Oncology              62\n",
              " Pain Management                    58\n",
              "Name: medical_specialty, dtype: int64"
            ]
          },
          "metadata": {},
          "execution_count": 7
        }
      ]
    },
    {
      "cell_type": "code",
      "metadata": {
        "colab": {
          "base_uri": "https://localhost:8080/",
          "height": 206
        },
        "id": "nV0gdrhXGQqW",
        "outputId": "ebc6bbcf-7aa6-4c21-cd33-6cbc41752892"
      },
      "source": [
        "df.head()"
      ],
      "execution_count": 8,
      "outputs": [
        {
          "output_type": "execute_result",
          "data": {
            "text/html": [
              "<div>\n",
              "<style scoped>\n",
              "    .dataframe tbody tr th:only-of-type {\n",
              "        vertical-align: middle;\n",
              "    }\n",
              "\n",
              "    .dataframe tbody tr th {\n",
              "        vertical-align: top;\n",
              "    }\n",
              "\n",
              "    .dataframe thead th {\n",
              "        text-align: right;\n",
              "    }\n",
              "</style>\n",
              "<table border=\"1\" class=\"dataframe\">\n",
              "  <thead>\n",
              "    <tr style=\"text-align: right;\">\n",
              "      <th></th>\n",
              "      <th>medical_specialty</th>\n",
              "      <th>transcription</th>\n",
              "      <th>keywords</th>\n",
              "    </tr>\n",
              "  </thead>\n",
              "  <tbody>\n",
              "    <tr>\n",
              "      <th>0</th>\n",
              "      <td>Cardiovascular / Pulmonary</td>\n",
              "      <td>2-D M-MODE: , ,1.  Left atrial enlargement wit...</td>\n",
              "      <td>cardiovascular / pulmonary, 2-d m-mode, dopple...</td>\n",
              "    </tr>\n",
              "    <tr>\n",
              "      <th>1</th>\n",
              "      <td>Cardiovascular / Pulmonary</td>\n",
              "      <td>1.  The left ventricular cavity size and wall ...</td>\n",
              "      <td>cardiovascular / pulmonary, 2-d, doppler, echo...</td>\n",
              "    </tr>\n",
              "    <tr>\n",
              "      <th>2</th>\n",
              "      <td>Cardiovascular / Pulmonary</td>\n",
              "      <td>2-D ECHOCARDIOGRAM,Multiple views of the heart...</td>\n",
              "      <td>cardiovascular / pulmonary, 2-d echocardiogram...</td>\n",
              "    </tr>\n",
              "    <tr>\n",
              "      <th>3</th>\n",
              "      <td>Cardiovascular / Pulmonary</td>\n",
              "      <td>DESCRIPTION:,1.  Normal cardiac chambers size....</td>\n",
              "      <td>cardiovascular / pulmonary, ejection fraction,...</td>\n",
              "    </tr>\n",
              "    <tr>\n",
              "      <th>4</th>\n",
              "      <td>Cardiovascular / Pulmonary</td>\n",
              "      <td>2-D STUDY,1. Mild aortic stenosis, widely calc...</td>\n",
              "      <td>cardiovascular / pulmonary, 2-d study, doppler...</td>\n",
              "    </tr>\n",
              "  </tbody>\n",
              "</table>\n",
              "</div>"
            ],
            "text/plain": [
              "             medical_specialty  ...                                           keywords\n",
              "0   Cardiovascular / Pulmonary  ...  cardiovascular / pulmonary, 2-d m-mode, dopple...\n",
              "1   Cardiovascular / Pulmonary  ...  cardiovascular / pulmonary, 2-d, doppler, echo...\n",
              "2   Cardiovascular / Pulmonary  ...  cardiovascular / pulmonary, 2-d echocardiogram...\n",
              "3   Cardiovascular / Pulmonary  ...  cardiovascular / pulmonary, ejection fraction,...\n",
              "4   Cardiovascular / Pulmonary  ...  cardiovascular / pulmonary, 2-d study, doppler...\n",
              "\n",
              "[5 rows x 3 columns]"
            ]
          },
          "metadata": {},
          "execution_count": 8
        }
      ]
    },
    {
      "cell_type": "markdown",
      "metadata": {
        "id": "8o04z4ICVCmQ"
      },
      "source": [
        "### Label encoding"
      ]
    },
    {
      "cell_type": "code",
      "metadata": {
        "id": "p4cY4UAMVHWj"
      },
      "source": [
        "from sklearn.preprocessing import LabelEncoder\n",
        "Encoder = LabelEncoder()\n",
        "df['labels'] = Encoder.fit_transform(df['medical_specialty'])"
      ],
      "execution_count": 9,
      "outputs": []
    },
    {
      "cell_type": "markdown",
      "metadata": {
        "id": "99RgTJtFVFFz"
      },
      "source": [
        "## Train and Test Sets"
      ]
    },
    {
      "cell_type": "code",
      "metadata": {
        "id": "8DjvtsVxZQU2"
      },
      "source": [
        "#X = df.keywords.values\n",
        "X = df.transcription.values\n",
        "y = df.labels.values"
      ],
      "execution_count": 10,
      "outputs": []
    },
    {
      "cell_type": "code",
      "metadata": {
        "id": "TErnxuLqg9MW"
      },
      "source": [
        "from sklearn.model_selection import train_test_split\n",
        "X_train, X_val , y_train, y_val = train_test_split(X, y,test_size=0.2)"
      ],
      "execution_count": 11,
      "outputs": []
    },
    {
      "cell_type": "code",
      "metadata": {
        "colab": {
          "base_uri": "https://localhost:8080/"
        },
        "id": "dmgMfBvIDUnC",
        "outputId": "99d50709-e186-4393-c7d1-22fcddefe551"
      },
      "source": [
        "X_train"
      ],
      "execution_count": 12,
      "outputs": [
        {
          "output_type": "execute_result",
          "data": {
            "text/plain": [
              "array(['SUBJECTIVE:,  The patient is a 7-year-old male who comes in today with a three-day history of emesis and a four-day history of diarrhea.  Apparently, his brother had similar symptoms.  They had eaten some chicken and then ate some more of it the next day, and I could not quite understand what the problem was because there is a little bit of language barrier, although dad was trying very hard to explain to me what had happened.  But any way, after he and his brother got done eating with chicken, they both felt bad and have continued to feel bad.  The patient has had diarrhea five to six times a day for the last four days and then he had emesis pretty frequently three days ago and then has just had a couple of it each day in the last two days.  He has not had any emesis today.  He has urinated this morning.  His parents are both concerned because he had a fever of 103 last night.  Also, he ate half of a hamburger yesterday and he tried drinking some milk and that is when he had an emesis.  He has been drinking Pedialyte, Gatorade, white grape juice, and 7Up, otherwise he has not been eating anything.,MEDICATIONS:  ,None.,ALLERGIES:  ,He has no known drug allergies.,REVIEW OF SYSTEMS:,  Negative as far as sore throat, earache, or cough.,PHYSICAL EXAMINATION:,General:  He is awake and alert, no acute distress.,Vital Signs:  Blood pressure:  106/75.  Temperature:  99.  Pulse:  112.  Weight is 54 pounds.,HEENT:  His TMs are normal bilaterally.  Posterior pharynx is unremarkable.,Neck:  Without adenopathy or thyromegaly.,Lungs:  Clear to auscultation.,Heart:  Regular rate and rhythm without murmur.,Abdomen:  Benign.,Skin:  Turgor is intact.  His capillary refill is less than 3 seconds.,LABORATORY: , White blood cell count is 5.3 with 69 segs, 15 lymphs, and 13 monos.  His platelet count on his CBC is 215.,ASSESSMENT:,  Viral gastroenteritis.,PLAN:,  The parents did point out to me a rash that he had on his buttock.  There were some small almost pinpoint erythematous patches of papules that have a scab on them.  I did not see any evidence of petechiae.  Therefore, I just reassured them that this is a viral gastroenteritis.  I recommended that they stop giving him juice and just go with the Gatorade and water.  He is to stay away from milk products until his diarrhea and stomach upset have calmed down.  We talked about BRAT diet and slowly advancing his diet as he tolerates.  They have used some Kaopectate, which did not really help with the diarrhea.  Otherwise follow up as needed.',\n",
              "       \"PREOPERATIVE DIAGNOSIS: , Scalp lacerations.,POSTOPERATIVE DIAGNOSIS: , Scalp lacerations.,OPERATION PERFORMED: , Incision and drainage (I&D) with primary wound closure of scalp lacerations.,ANESTHESIA:,  GET.,EBL: , Minimal.,COMPLICATIONS: , None.,DRAINS: , None.,DISPOSITION: , Vital signs stable and taken to the recovery room in a satisfactory condition.,INDICATION FOR PROCEDURE:  ,The patient is a middle-aged female, who has had significant lacerations to her head from a motor vehicle accident.  The patient was taken to the operating room for an I&D of the lacerations with wound closure.,PROCEDURE IN DETAIL:  ,After appropriate consent was obtained from the patient, the patient was wheeled out to the operating theater room #5.  Before the neck instrumentation was performed, the patient's lacerations to her scalp were I&D'ed and closed.  It was noted that the head was significantly contaminated with blood as well as mangled.  It was decided at that time in order to repair the lacerations appropriately, the patient would undergo cutting of her hair.  This was shaved appropriately with shavers.  Once this was done, the scalp lacerations were copiously irrigated with a scrubbing brush, hexedine solution together with peroxide.  Once this was appropriately debrided with regards to the midline incision with the scalp going through the midline of her skull as well as the incision on the left aspect of her scalp, the wounds were significantly irrigated with normal saline.  No significant debris was appreciated.  Once this was done, staples were used to oppose the dermal edges together.  The patient was subsequently dressed sterilely using bacitracin ointment, Xeroform, 4x4s, and tape.  The neck procedure was subsequently performed.\",\n",
              "       \"DIAGNOSES ON ADMISSION,1.  Cerebrovascular accident (CVA) with right arm weakness.,2.  Bronchitis.,3.  Atherosclerotic cardiovascular disease.,4.  Hyperlipidemia.,5.  Thrombocytopenia.,DIAGNOSES ON DISCHARGE,1.  Cerebrovascular accident with right arm weakness and MRI indicating acute/subacute infarct involving the left posterior parietal lobe without mass effect.,2.  Old coronary infarct, anterior aspect of the right external capsule.,3.  Acute bronchitis with reactive airway disease.,4.  Thrombocytopenia most likely due to old coronary infarct, anterior aspect of the right external capsule.,5.  Atherosclerotic cardiovascular disease.,6.  Hyperlipidemia.,HOSPITAL COURSE: , The patient was admitted to the emergency room.  Plavix was started  in addition to baby aspirin.  He was kept on oral Zithromax for his cough.  He was given Xopenex treatment, because of his respiratory distress.  Carotid ultrasound was reviewed and revealed a 50 to 69% obstruction of left internal carotid.  Dr. X saw him in consultation and recommended CT angiogram.  This showed no significant obstructive lesion other than what was known on the ultrasound.  Head MRI was done and revealed the above findings.  The patient was begun on PT and improved.  By discharge, he had much improved strength in his right arm.  He had no further progressions.  His cough improved with oral Zithromax and nebulizer treatments.  His platelets also improved as well.  By discharge, his platelets was up to 107,000.  His H&H was stable at 41.7 and 14.6 and his white count was 4300 with a normal differential.  Chest x-ray revealed a mild elevated right hemidiaphragm, but no infiltrate.  Last chemistry panel on December 5, 2003, sodium 137, potassium 4.0, chloride 106, CO2 23, glucose 88, BUN 17, creatinine 0.7, calcium was 9.1.  PT/INR on admission was 1.03, PTT 34.7.  At the time of discharge, the patient's cough was much improved.  His right arm weakness has much improved.  His lung examination has just occasional rhonchi.  He was changed to a metered dose inhaler with albuterol.  He is being discharged home.  An echocardiogram revealed mild concentric LVH with normal left ventricular function with an EF of 57%, moderate left atrial enlargement and diastolic dysfunction with mild mitral regurgitation.  He will follow up in my office in 1 week.  He is to start PT and OT as an outpatient.  He is to avoid driving his car.  He is to notify, if further symptoms.  He has 2 more doses of Zithromax at home, he will complete.  His prognosis is good.\",\n",
              "       ...,\n",
              "       \"PREOPERATIVE DIAGNOSES:,1.  Pelvic pain.,2.  Hypermenorrhea.,POSTOPERATIVE DIAGNOSES:,1.  Pelvic pain.,2.  Hypermenorrhea.,3.  Mild pelvic endometriosis.,PROCEDURE PERFORMED:,1.  Dilatation and curettage (D&C).,2.  Laparoscopic ablation of endometrial implants.,ANESTHESIA:  ,General endotracheal.,COMPLICATIONS: , None.,ESTIMATED BLOOD LOSS: , Less than 50 cc.,SPECIMEN: , Endometrial curettings.,INDICATIONS: , This is a 26-year-old female with a history of approximately one year of heavy painful menses.  She did complain of some dyspareunia and wants a definitive diagnosis.,FINDINGS: , On bimanual exam, the uterus is small and anteverted with mildly decreased mobility on the left side.  There are no adnexal masses appreciated.  On laparoscopic exam, the uterus is normal appearing but slightly compressible.  The bilateral tubes and ovaries appear normal.  There is evidence of endometriosis on the left pelvic sidewall in the posterior cul-de-sac.  There was no endometriosis in the right pelvic sidewall or along the bladder flap.,There were some adhesions on the right abdominal sidewall from the previous appendectomy.  The liver margin, gallbladder, and bowel appeared normal.  The uterus was sounded to 9 cm.,PROCEDURE: , After consent was obtained, the patient was taken to the operating room and general anesthetic was administered.  The patient was placed in dorsal lithotomy position and prepped and draped in normal sterile fashion.  Sterile speculum was placed in the patient's vagina.  The anterior lip of the cervix was grasped with vulsellum tenaculum.  The uterus was sounded to 9 cm.  The cervix was then serially dilated with Hank dilators.  A sharp curettage was performed until a gritty texture was noted in all aspects of the endometrium.  The moderate amount of tissue that was obtained was sent to Pathology.  The #20 Hank dilator was then replaced and the sterile speculum was removed.  Gloves were changed and attention was then turned to the abdomen where approximately 10 mm transverse infraumbilical incision was made.  The Veress needle was placed into this incision and the gas was turned on.  When good flow and low abdominal pressures were noted, the gas was turned up and the abdomen was allowed to insufflate.  The #11 mm trocar was then placed through this incision and a camera was placed with the above findings noted.  A Bierman needle was placed 2 cm superior to the pubic bone and along the midline to allow a better visualization of the pelvic organs.  A 5 mm port was placed approximately 7 cm to 8 cm to the right of the umbilicus and approximately 3 cm inferior.  The harmonic scalpel was placed through this port and the areas of endometriosis were ablated using the harmonic scalpel.  A syringe was placed on to the Bierman needle and a small amount of fluid in the posterior cul-de-sac was removed to allow better visualization of the posterior cul-de-sac.  The lesions in the posterior cul-de-sac were then ablated using the Harmonic scalpel.  All instruments were then removed.  The Bierman needle and 5 mm port was removed under direct visualization with excellent hemostasis noted.  The camera was removed and the abdomen was allowed to desufflate.  The 11 mm trocar introducer was replaced and the trocar was removed.  The skin was closed with #4-0 undyed Vicryl in subcuticular fashion.  ,Approximately 10 cc of 0.25% Marcaine was placed in the incision sites.  The dilator and vulsellum tenaculum were removed from the patient's cervix with excellent hemostasis noted.  The patient tolerated the procedure well.  Sponge, lap, and needle counts were correct at the end of procedure.  The patient was taken to the recovery room in satisfactory condition.  She will be discharged home with a prescription for Darvocet for pain and is instructed to follow up in the office in two weeks with further treatment will be discussed including approximately six months of continuous monophasic oral contraceptives.\",\n",
              "       \"CC:, Transient visual field loss.,HX: ,This 58 y/o RHF had a 2 yr h/o increasing gait difficulty which she attributed to generalized weakness and occasional visual obscurations. She was evaluated by a local physician several days prior to this presentation (1/7/91), for clumsiness of her right hand and falling. HCT and MRI brain revealed bilateral posterior clinoid masses.,MEDS:, Colace, Quinidine, Synthroid, Lasix, Lanoxin, KCL, Elavil, Tenormin.,PMH: ,1) Obesity.  2) VBG, 1990.  3) A-Fib. 4) HTN.  5) Hypothyroidism.  6) Hypercholesterolemia. 7) Briquet's syndrome: h/o of hysterical paralysis. 8) CLL, dx 1989; in 1992 presented with left neck lymphadenopathy and received 5 cycles of chlorambucil/prednisone chemotherapy; 10/95 parotid gland biopsy was consistent with CLL and she received 5 more cycles of chlorambucil/prednisone; 1/10/96, she received 3000cGy to right parotid mass. 9) SNHL,FHX:, Father died, MI age 61.,SHX:, Denied Tobacco/ETOH/illicit drug use.,EXAM:, Vitals were unremarkable.,The neurologic exam was unremarkable except for obesity and mild decreased PP about the right upper and lower face, diffusely about the left upper and lower face, per neurosurgery notes. The neuro-ophthalmologic exam was unremarkable, per Neuro-ophthalmology.,COURSE:, She underwent Cerebral Angiography on 1/8/91. This revealed a 15x17x20mm LICA paraclinoid/ophthalmic artery aneurysm and a 5x7mm RICA paraclinoid/ophthalmic artery aneurysm. On 1/16/91 she underwent a left frontotemporal craniotomy and exploration of the left aneurysm. The aneurysm neck went into the cavernous sinus and was unclippable so it was wrapped. She has complained of headaches since.\",\n",
              "       \"PREOPERATIVE DIAGNOSIS:,  Acute appendicitis with perforation.,POSTOPERATIVE DIAGNOSIS:  ,Acute appendicitis with perforation.,ANESTHESIA:,  General.,PROCEDURE: , Laparoscopic appendectomy.,INDICATIONS FOR PROCEDURE: , The patient is a 4-year-old little boy, who has been sick for several days and was seen in our Emergency Department yesterday where a diagnosis of possible constipation was made, but he was sent home with a prescription for polyethylene glycol but became more acutely ill and returned today with tachycardia, high fever and signs of peritonitis.  A CT scan of his abdomen showed evidence of appendicitis with perforation.  He was evaluated in the Emergency Department and placed on the appendicitis critical pathway for this acute appendicitis process.  He required several boluses of fluid for tachycardia and evidence of dehydration.,I met with Carlos' parents and talked to them about the diagnosis of appendicis and surgical risks, benefits, and alternative treatment options.  All their questions have been answered and they agree with the surgical plan.,OPERATIVE FINDINGS: , The patient had acute perforated appendicitis with diffuse suppurative peritonitis including multiple intraloop abscesses and purulent debris in all quadrants of the abdomen including the perihepatic and subphrenic recesses as well.,DESCRIPTION OF PROCEDURE: , The patient came to the operating room and had an uneventful induction of general anesthesia.  A Foley catheter was placed for decompression, and his abdomen was prepared and draped in a standard fashion.  A 0.25% Marcaine was infiltrated in the soft tissues around his umbilicus and in the suprapubic and left lower quadrant locations chosen for trocar insertion.  We conducted our surgical timeout and reiterated all of Carlos' unique and important identifying information and confirmed the diagnosis of appendicitis and planned laparoscopic appendectomy as the procedure.  A 1-cm vertical infraumbilical incision was made and an open technique was used to place a 12-mm Step trocar through the umbilical fascia.  CO2 was insufflated to a pressure of 15 mmHg and then two additional 5-mm working ports were placed in areas that had been previously anesthetized.,There was a lot of diffuse purulent debris and adhesions between the omentum and adjacent surfaces of the bowel and the parietal peritoneum.  After these were gently separated, we began to identify the appendix.  In the __________ due to the large amount of small bowel dilatation and distension, I used the hook cautery with the lowest intraperitoneal __________ profile to coagulate the mesoappendix.  The base of the appendix was then ligated with 2-0 PDS Endoloops, and the appendix was amputated and withdrawn through the umbilical port.  I spent the next 10 minutes irrigating purulent fluid and debris from the peritoneal cavity using 2 L of sterile crystalloid solution and a suction power irrigation system.  When this was complete, the CO2 was released one final time and as much of the fluid was drained from the peritoneal cavity as possible.  The umbilical fascia was closed with figure-of-eight suture of 0 Monocryl and the skin incisions were closed with subcuticular 5-0 Monocryl and Steri-Strips.  The patient tolerated the operation well.  He was awakened and taken to the recovery room in satisfactory condition.  His blood loss was less than 10 mL, and he received only crystalloid fluid during the procedure.\"],\n",
              "      dtype=object)"
            ]
          },
          "metadata": {},
          "execution_count": 12
        }
      ]
    },
    {
      "cell_type": "code",
      "metadata": {
        "colab": {
          "base_uri": "https://localhost:8080/"
        },
        "id": "YatwI7qefUGl",
        "outputId": "c52566b6-bca6-47c2-b316-3d8595e245f7"
      },
      "source": [
        "y_train"
      ],
      "execution_count": 13,
      "outputs": [
        {
          "output_type": "execute_result",
          "data": {
            "text/plain": [
              "array([ 5, 16,  2, ..., 16,  8, 16])"
            ]
          },
          "metadata": {},
          "execution_count": 13
        }
      ]
    },
    {
      "cell_type": "markdown",
      "metadata": {
        "id": "vNFZ4RB-VJh7"
      },
      "source": [
        "## Model"
      ]
    },
    {
      "cell_type": "markdown",
      "metadata": {
        "id": "mHh49b4AvlgD"
      },
      "source": [
        "### Parameters"
      ]
    },
    {
      "cell_type": "code",
      "metadata": {
        "id": "obJCts1cj1T3"
      },
      "source": [
        "batch_size = 8\n",
        "epochs = 6\n",
        "num_elements = len(df)\n",
        "num_categories = df.medical_specialty.value_counts().count()"
      ],
      "execution_count": 14,
      "outputs": []
    },
    {
      "cell_type": "markdown",
      "metadata": {
        "id": "NpQzDqQ3voep"
      },
      "source": [
        "### Tokenize data and Create TensorFlow dataset"
      ]
    },
    {
      "cell_type": "code",
      "metadata": {
        "id": "IJ_GxDIVhJiN"
      },
      "source": [
        "tokenizer = AutoTokenizer.from_pretrained(\"roberta-base\")\n",
        "train_encodings = tokenizer(list(X_train), truncation = True, padding ='max_length')\n",
        "val_encodings = tokenizer(list(X_val), truncation = True, padding ='max_length')\n",
        "\n",
        "train_dataset = tf.data.Dataset.from_tensor_slices((dict(train_encodings),list(y_train)))\n",
        "\n",
        "val_dataset = tf.data.Dataset.from_tensor_slices((dict(val_encodings), list(y_val)))"
      ],
      "execution_count": 15,
      "outputs": []
    },
    {
      "cell_type": "markdown",
      "metadata": {
        "id": "cUfKu1ZivyVm"
      },
      "source": [
        "### Set and fit model"
      ]
    },
    {
      "cell_type": "code",
      "metadata": {
        "colab": {
          "base_uri": "https://localhost:8080/"
        },
        "id": "vmFoau3ghlOP",
        "outputId": "20ce7fea-9f9f-4f69-8ea4-d45562676c4f"
      },
      "source": [
        "model = TFAutoModelForSequenceClassification.from_pretrained(\"roberta-base\", num_labels = num_categories)\n",
        "\n",
        "model.compile(\n",
        "        optimizer = tf.keras.optimizers.Adam(learning_rate = 1e-5),\n",
        "        loss = tf.keras.losses.SparseCategoricalCrossentropy(from_logits=True),\n",
        "        metrics = tf.metrics.SparseCategoricalAccuracy()\n",
        "        )\n",
        "\n",
        "history = model.fit(train_dataset.shuffle(len(X_train)).batch(batch_size), validation_data = val_dataset.batch(batch_size), epochs = epochs, verbose=1)"
      ],
      "execution_count": 16,
      "outputs": [
        {
          "output_type": "stream",
          "name": "stderr",
          "text": [
            "All model checkpoint layers were used when initializing TFRobertaForSequenceClassification.\n",
            "\n",
            "Some layers of TFRobertaForSequenceClassification were not initialized from the model checkpoint at roberta-base and are newly initialized: ['classifier']\n",
            "You should probably TRAIN this model on a down-stream task to be able to use it for predictions and inference.\n"
          ]
        },
        {
          "output_type": "stream",
          "name": "stdout",
          "text": [
            "Epoch 1/6\n",
            "352/352 [==============================] - 737s 2s/step - loss: 2.2401 - sparse_categorical_accuracy: 0.3501 - val_loss: 1.8420 - val_sparse_categorical_accuracy: 0.3841\n",
            "Epoch 2/6\n",
            "352/352 [==============================] - 711s 2s/step - loss: 1.6587 - sparse_categorical_accuracy: 0.4052 - val_loss: 1.4915 - val_sparse_categorical_accuracy: 0.4339\n",
            "Epoch 3/6\n",
            "352/352 [==============================] - 713s 2s/step - loss: 1.3740 - sparse_categorical_accuracy: 0.4522 - val_loss: 1.4178 - val_sparse_categorical_accuracy: 0.4182\n",
            "Epoch 4/6\n",
            "352/352 [==============================] - 711s 2s/step - loss: 1.2334 - sparse_categorical_accuracy: 0.4803 - val_loss: 1.3751 - val_sparse_categorical_accuracy: 0.3898\n",
            "Epoch 5/6\n",
            "352/352 [==============================] - 712s 2s/step - loss: 1.1477 - sparse_categorical_accuracy: 0.4934 - val_loss: 1.4145 - val_sparse_categorical_accuracy: 0.3841\n",
            "Epoch 6/6\n",
            "352/352 [==============================] - 713s 2s/step - loss: 1.0876 - sparse_categorical_accuracy: 0.4806 - val_loss: 1.3746 - val_sparse_categorical_accuracy: 0.3442\n"
          ]
        }
      ]
    },
    {
      "cell_type": "markdown",
      "metadata": {
        "id": "nV2VAdRfv3dc"
      },
      "source": [
        "Plot loss"
      ]
    },
    {
      "cell_type": "code",
      "metadata": {
        "id": "CeYm2esLmwKT",
        "colab": {
          "base_uri": "https://localhost:8080/",
          "height": 279
        },
        "outputId": "d8491f88-245c-417d-afac-d91c5c77850e"
      },
      "source": [
        "plt.plot(history.history['loss'])\n",
        "plt.plot(history.history['val_loss'])\n",
        "plt.ylabel('Loss')\n",
        "plt.xlabel('Epoch')\n",
        "plt.legend(['train', 'test'], loc='best')\n",
        "plt.show()"
      ],
      "execution_count": 17,
      "outputs": [
        {
          "output_type": "display_data",
          "data": {
            "image/png": "[encoded data removed]",
            "text/plain": [
              "<Figure size 432x288 with 1 Axes>"
            ]
          },
          "metadata": {
            "needs_background": "light"
          }
        }
      ]
    },
    {
      "cell_type": "code",
      "metadata": {
        "id": "jgXJq-FE0Adh",
        "colab": {
          "base_uri": "https://localhost:8080/"
        },
        "outputId": "143c7180-6285-40e2-bbcd-55ca4d7a86d3"
      },
      "source": [
        "model.summary()"
      ],
      "execution_count": 18,
      "outputs": [
        {
          "output_type": "stream",
          "name": "stdout",
          "text": [
            "Model: \"tf_roberta_for_sequence_classification\"\n",
            "_________________________________________________________________\n",
            " Layer (type)                Output Shape              Param #   \n",
            "=================================================================\n",
            " roberta (TFRobertaMainLayer  multiple                 124055040 \n",
            " )                                                               \n",
            "                                                                 \n",
            " classifier (TFRobertaClassi  multiple                 604434    \n",
            " ficationHead)                                                   \n",
            "                                                                 \n",
            "=================================================================\n",
            "Total params: 124,659,474\n",
            "Trainable params: 124,659,474\n",
            "Non-trainable params: 0\n",
            "_________________________________________________________________\n"
          ]
        }
      ]
    },
    {
      "cell_type": "markdown",
      "metadata": {
        "id": "6MBnKKftv6sa"
      },
      "source": [
        "Predictions from validation set"
      ]
    },
    {
      "cell_type": "code",
      "metadata": {
        "id": "Z6wYm2dazOXK"
      },
      "source": [
        "pred = model.predict(val_dataset.batch(batch_size)).logits\n",
        "prob=tf.nn.softmax(pred, axis=1).numpy()\n",
        "predictions=np.argmax(prob, axis=1)"
      ],
      "execution_count": 19,
      "outputs": []
    },
    {
      "cell_type": "markdown",
      "metadata": {
        "id": "5LLT1nLDv-P2"
      },
      "source": [
        "## Confusion Matrix and Metrics"
      ]
    },
    {
      "cell_type": "code",
      "metadata": {
        "id": "wJigoi547tXZ"
      },
      "source": [
        "conf_matrix = tf.math.confusion_matrix(y_val,predictions)"
      ],
      "execution_count": 20,
      "outputs": []
    },
    {
      "cell_type": "code",
      "metadata": {
        "id": "T07bto9KwEKl"
      },
      "source": [
        "conf_labels = [' Cardiovascular / Pulmonary',' Consult - History and Phy.',\n",
        "              ' Discharge Summary',' ENT - Otolaryngology',\n",
        "              ' Gastroenterology',' General Medicine',\n",
        "              ' Hematology - Oncology',' Nephrology', \n",
        "              ' Neurology',' Neurosurgery', \n",
        "              ' Obstetrics / Gynecology',' Ophthalmology',\n",
        "              ' Orthopedic',' Pain Management',\n",
        "              ' Radiology', ' SOAP / Chart / Progress Notes',\n",
        "              ' Surgery',' Urology']"
      ],
      "execution_count": 21,
      "outputs": []
    },
    {
      "cell_type": "code",
      "metadata": {
        "id": "hyxYDYx-uLpV"
      },
      "source": [
        "accuracy = accuracy_score(y_val, predictions)\n",
        "precision = precision_score(y_val, predictions, average='weighted')\n",
        "recall = recall_score(y_val, predictions, average='weighted')\n",
        "f1 = f1_score(y_val, predictions, average='weighted')"
      ],
      "execution_count": 22,
      "outputs": []
    },
    {
      "cell_type": "code",
      "metadata": {
        "id": "RhvlYXlH-yg1",
        "colab": {
          "base_uri": "https://localhost:8080/",
          "height": 921
        },
        "outputId": "c713a3d0-e7cd-4d08-efcb-d5868ab0ed2e"
      },
      "source": [
        "metrics = 'Predicted \\n\\nAccuracy:{} \\nPrecision:{} \\nRecall:{} \\nF1 score:{}'.format(accuracy, precision, recall, f1)\n",
        "plt.figure(figsize=(15,13))\n",
        "matrix = sn.heatmap(conf_matrix, annot = True, fmt = 'd', cmap = 'coolwarm', square = True, xticklabels = conf_labels, yticklabels = conf_labels) \n",
        "matrix.set_xticklabels(matrix.get_xticklabels(), rotation=40, ha=\"right\")\n",
        "matrix.set(xlabel = metrics, ylabel = 'True')\n",
        "plt.show"
      ],
      "execution_count": 23,
      "outputs": [
        {
          "output_type": "execute_result",
          "data": {
            "text/plain": [
              "<function matplotlib.pyplot.show>"
            ]
          },
          "metadata": {},
          "execution_count": 23
        },
        {
          "output_type": "display_data",
          "data": {
            "image/png": "[encoded data removed]",
            "text/plain": [
              "<Figure size 1080x936 with 2 Axes>"
            ]
          },
          "metadata": {
            "needs_background": "light"
          }
        }
      ]
    },
    {
      "cell_type": "markdown",
      "metadata": {
        "id": "6f6l6Qh6xFUb"
      },
      "source": [
        "# Sources\n",
        "\n",
        "**Dataset:**<br/>\n",
        "[Kaggle](https://www.kaggle.com/tboyle10/medicaltranscriptions)\n",
        "\n",
        "**Guide for Pre-Trained Model:**<br/>\n",
        "[Hugging Face](https://huggingface.co/docs/transformers/training)"
      ]
    }
  ]
}